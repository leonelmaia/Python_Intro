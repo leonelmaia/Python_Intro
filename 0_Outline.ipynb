{
 "cells": [
  {
   "cell_type": "markdown",
   "metadata": {},
   "source": [
    "\n",
    "<table>\n",
    "<tr>\n",
    "<td width=15%><img src=\"./img/UGA.png\"></img></td>\n",
    "<td><center><h1>Refresher Course on Matrix Analysis and Optimization</h1></center></td>\n",
    "<td width=15%><a href=\"http://www.iutzeler.org\" style=\"font-size: 16px; font-weight: bold\">Franck Iutzeler</a> <a href=\"https://ljk.imag.fr/membres/Jerome.Malick/\" style=\"font-size: 16px; font-weight: bold\">Jerome Malick</a><br/> Fall. 2018 </td>\n",
    "</tr>\n",
    "</table>\n"
   ]
  },
  {
   "cell_type": "markdown",
   "metadata": {},
   "source": [
    "<br/><br/>\n",
    "\t<center><h1> Course Presentation </h1></center>"
   ]
  },
  {
   "cell_type": "markdown",
   "metadata": {},
   "source": [
    "\n",
    "### Chap. 1 - Introduction to Python \n",
    "\n",
    "#### 1. [Basics](1-1_Basics.ipynb)\n",
    "#### 2. [NumPy](1-2_NumPy.ipynb)\n",
    "#### 3. [Examples in Data Science](1-3_Examples_in_Data_Science.ipynb)\n",
    "\n",
    "### Chap. 2 - Refresher Course \n",
    "\n",
    "#### 1. [Matrix Analysis](2-1_Matrix_Analysis.ipynb)\n",
    "#### 2. [Numerical Optimization](2-2_Numerical_Optimization.ipynb)\n"
   ]
  },
  {
   "cell_type": "markdown",
   "metadata": {},
   "source": [
    "# 1. Refresher course\n",
    "\n",
    "\n",
    "### Format  \n",
    "\n",
    "2$\\times$ (3h Course + 3h Tutorial + 3h Practical Session)\n",
    "\n",
    "### Contents\n",
    "   \n",
    "* matrix numerical analysis\n",
    " *  \n",
    "    * matrix analysis (matrices, eigen/singular values, condition number, functions)\n",
    "    * numerical methods (factorizations, linear equation solving, eigenvalue/vectors computation)\n",
    "    * Practical work: practical evaluation of the cost of basic operations, application to regression models…\n",
    "* numerical optimisation\n",
    "  *  \n",
    "    * introduction to optimization (definitions, examples, convexity)\n",
    "    * algorithms in unconstrained optimisation (gradient, Newton, quasi-Newton)\n",
    "    * Practical work: comparison of optimization algorithms, application to logistic regression\n",
    "\n",
    "\n",
    "### Practical Sessions \n",
    "\n",
    "The practical sessions will be done in **Python**. If you are not familiar with Python, please go through the [Python Basics](1-1_Basics.ipynb). If you want to go further, we also provide you a [NumPy introduction](1-2_NumPy.ipynb).\n"
   ]
  },
  {
   "cell_type": "markdown",
   "metadata": {},
   "source": [
    "# 2. Credits\n",
    "\n",
    "\n",
    "We are greatly indebted to many people and resources for this course\n",
    "* Alexandre Gramfort for his kind permission tu use some material from his course <a href=\"\">at Telecom ParisTech</a> and his <a href=\"\">scikit-learn tutorial at SciPy 2016</a>.\n",
    "* the various docs and examples on the websites of Numpy, Scipy, CvxOpt, Pandas, Scikit Learn, TensorFlow\n",
    " * \n",
    "    * [Numpy's quickstart tutorial](https://docs.scipy.org/doc/numpy-dev/user/quickstart.html)\n",
    "    * [Numpy for Matlab users](https://docs.scipy.org/doc/numpy-dev/user/numpy-for-matlab-users.html)\n",
    " \n",
    "<p style=\"text-align: right\">F.I. and J.M.</p>\n",
    "\n"
   ]
  },
  {
   "cell_type": "markdown",
   "metadata": {},
   "source": [
    "---\n",
    "<div id=\"style\"></div>\n",
    "### Package Check and Styling\n",
    "\n",
    "\n",
    "<p style=\"text-align: right; font-size: 10px;\"><a href=\"#top\">Go to top</a></p>\n"
   ]
  },
  {
   "cell_type": "code",
   "execution_count": null,
   "metadata": {},
   "outputs": [],
   "source": [
    "import lib.notebook_setting as nbs\n",
    "\n",
    "packageList = ['IPython', 'numpy', 'scipy', 'matplotlib', 'cvxopt']\n",
    "nbs.packageCheck(packageList)\n",
    "\n",
    "nbs.cssStyling()"
   ]
  }
 ],
 "metadata": {
  "kernelspec": {
   "display_name": "Python 3",
   "language": "python",
   "name": "python3"
  },
  "language_info": {
   "codemirror_mode": {
    "name": "ipython",
    "version": 3
   },
   "file_extension": ".py",
   "mimetype": "text/x-python",
   "name": "python",
   "nbconvert_exporter": "python",
   "pygments_lexer": "ipython3",
   "version": "3.6.8"
  },
  "varInspector": {
   "cols": {
    "lenName": 16,
    "lenType": 16,
    "lenVar": 40
   },
   "kernels_config": {
    "python": {
     "delete_cmd_postfix": "",
     "delete_cmd_prefix": "del ",
     "library": "var_list.py",
     "varRefreshCmd": "print(var_dic_list())"
    },
    "r": {
     "delete_cmd_postfix": ") ",
     "delete_cmd_prefix": "rm(",
     "library": "var_list.r",
     "varRefreshCmd": "cat(var_dic_list()) "
    }
   },
   "types_to_exclude": [
    "module",
    "function",
    "builtin_function_or_method",
    "instance",
    "_Feature"
   ],
   "window_display": false
  }
 },
 "nbformat": 4,
 "nbformat_minor": 1
}
